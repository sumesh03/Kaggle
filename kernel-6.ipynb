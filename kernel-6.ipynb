{
  "cells": [
    {
      "metadata": {
        "_uuid": "f35eeaac04a14dd68468f3ee0e741b305d002110"
      },
      "cell_type": "markdown",
      "source": "**[Python Micro-Course Home Page](https://www.kaggle.com/learn/python)**\n\n---\n"
    },
    {
      "metadata": {
        "_uuid": "8efafe92aa4ea6098455e91f2269a323afa3f925"
      },
      "cell_type": "markdown",
      "source": "These exercises accompany the tutorial on [loops and list comprehensions](https://www.kaggle.com/colinmorris/loops-and-list-comprehensions).\n\nAs always, run the setup code below before working on the questions (and if you leave this notebook and come back later, remember to run the setup code again)."
    },
    {
      "metadata": {
        "_uuid": "bc0be5763a6ea4d2893ae20b648b02dacc8fe193",
        "trusted": true
      },
      "cell_type": "code",
      "source": "from learntools.core import binder; binder.bind(globals())\nfrom learntools.python.ex5 import *\nprint('Setup complete.')",
      "execution_count": null,
      "outputs": []
    },
    {
      "metadata": {
        "_uuid": "568e1ed68a3bd78213e821c7f1774518ad672f09"
      },
      "cell_type": "markdown",
      "source": "# Exercises"
    },
    {
      "metadata": {
        "_uuid": "873c51717b1dbdf77cbbf042b4b584063747beb0"
      },
      "cell_type": "markdown",
      "source": "## 1.\n\nHave you ever felt debugging involved a bit of luck? The following program has a bug. Try to identify the bug and fix it."
    },
    {
      "metadata": {
        "_uuid": "1481410d432e3ef4fc228e4f1f7cdd01585f6e3d",
        "trusted": true
      },
      "cell_type": "code",
      "source": "def has_lucky_number(nums):\n    \"\"\"Return whether the given list of numbers is lucky. A lucky list contains\n    at least one number divisible by 7.\n    \"\"\"\n    for num in nums:\n        if num % 7 == 0:\n            return True\n        else:\n            return False",
      "execution_count": null,
      "outputs": []
    },
    {
      "metadata": {
        "_uuid": "53dba000d8e2019ee0176e0cf5c134d09a4f8415"
      },
      "cell_type": "markdown",
      "source": "Try to identify the bug and fix it in the cell below:"
    },
    {
      "metadata": {
        "_uuid": "37326ca4d9f8f1d22c66c6966cb99ef2ab2d95fb",
        "trusted": true
      },
      "cell_type": "code",
      "source": "def has_lucky_number(nums):\n    \"\"\"Return whether the given list of numbers is lucky. A lucky list contains\n    at least one number divisible by 7.\n    \"\"\"\n    for num in nums:\n        if num % 7 == 0:\n            return True\n    return False\n\nq1.check()",
      "execution_count": null,
      "outputs": []
    },
    {
      "metadata": {
        "_uuid": "c4bce4b70eec4b2cbdfcc04c465633be63cbace7",
        "trusted": true
      },
      "cell_type": "code",
      "source": "q1.hint()\n#q1.solution()",
      "execution_count": null,
      "outputs": []
    },
    {
      "metadata": {
        "_uuid": "67ef1419a8864ac59859e90441c6fb0d63ccf3d7"
      },
      "cell_type": "markdown",
      "source": "## 2.\n\n### a.\nLook at the Python expression below. What do you think we'll get when we run it? When you've made your prediction, uncomment the code and run the cell to see if you were right."
    },
    {
      "metadata": {
        "_uuid": "1bf617207a8030edaffd8c10929ab8505fb7ebc9",
        "trusted": true
      },
      "cell_type": "code",
      "source": "#[1, 2, 3, 4] > 2",
      "execution_count": null,
      "outputs": []
    },
    {
      "metadata": {
        "_uuid": "1125d316991a9bc95dd32c2c175e13e3bc384719"
      },
      "cell_type": "markdown",
      "source": "### b\nR and Python have some libraries (like numpy and pandas) compare each element of the list to 2 (i.e. do an 'element-wise' comparison) and give us a list of booleans like `[False, False, True, True]`. \n\nImplement a function that reproduces this behaviour, returning a list of booleans corresponding to whether the corresponding element is greater than n.\n"
    },
    {
      "metadata": {
        "_uuid": "b500331ec58b1ca2768d772b1827d0a94c995086",
        "trusted": true
      },
      "cell_type": "code",
      "source": "def elementwise_greater_than(L, thresh):\n    \"\"\"Return a list with the same length as L, where the value at index i is \n    True if L[i] is greater than thresh, and False otherwise.\n    \n    >>> elementwise_greater_than([1, 2, 3, 4], 2)\n    [False, False, True, True]\n    \"\"\"\n    pass\n    res = []\n    for ele in L:\n        res.append(ele > thresh)\n    return res\n\nq2.check()",
      "execution_count": null,
      "outputs": []
    },
    {
      "metadata": {
        "_uuid": "7d960bd517d5070dd5e6e96037627af865df3d0d",
        "trusted": true
      },
      "cell_type": "code",
      "source": "q2.solution()",
      "execution_count": null,
      "outputs": []
    },
    {
      "metadata": {
        "_uuid": "6c2aafd9294918315fbc72d85cd999d6d4313bd9"
      },
      "cell_type": "markdown",
      "source": "## 3.\n\nComplete the body of the function below according to its docstring"
    },
    {
      "metadata": {
        "_uuid": "5a57e8f1f086aa80acd97d7595f82abb07decae6",
        "trusted": true
      },
      "cell_type": "code",
      "source": "def menu_is_boring(meals):\n    \"\"\"Given a list of meals served over some period of time, return True if the\n    same meal has ever been served two days in a row, and False otherwise.\n    \"\"\"\n    pass\n    for i in range(len(meals)-1):\n        if meals[i] == meals[i+1]:\n            return True\n    return False\n\n\nq3.check()",
      "execution_count": null,
      "outputs": []
    },
    {
      "metadata": {
        "_uuid": "d963aa8e759a272ea9cbbf6904baceb612510db5",
        "trusted": true
      },
      "cell_type": "code",
      "source": "q3.hint()\nq3.solution()",
      "execution_count": null,
      "outputs": []
    },
    {
      "metadata": {
        "_uuid": "94daf1330255f7a4e1c0e35bf73254a664be263c"
      },
      "cell_type": "markdown",
      "source": "## 4. <span title=\"A bit spicy\" style=\"color: darkgreen \">🌶️</span>\n\nNext to the Blackjack table, the Python Challenge Casino has a slot machine. You can get a result from the slot machine by calling `play_slot_machine()`. The number it returns is your winnings in dollars. Usually it returns 0.  But sometimes you'll get lucky and get a big payday. Try running it below:"
    },
    {
      "metadata": {
        "collapsed": true,
        "_uuid": "4188e2e50eca8ffd391fea63cce68ee1bf58bc29",
        "trusted": false
      },
      "cell_type": "code",
      "source": "play_slot_machine()",
      "execution_count": null,
      "outputs": []
    },
    {
      "metadata": {
        "_uuid": "0450029bce0c5d7ae9bc41d4bc6dc8ad95363ff6"
      },
      "cell_type": "markdown",
      "source": "By the way, did we mention that each play costs $1? Don't worry, we'll send you the bill later.\n\nOn average, how much money can you expect to gain (or lose) every time you play the machine?  The casino keeps it a secret, but you can estimate the average value of each pull using a technique called the **Monte Carlo method**. To estimate the average outcome, we simulate the scenario many times, and return the average result.\n\nComplete the following function to calculate the average value per play of the slot machine."
    },
    {
      "metadata": {
        "collapsed": true,
        "_uuid": "b82c524e27d61107dc809efc77fad92986e36d8e",
        "trusted": false
      },
      "cell_type": "code",
      "source": "def estimate_average_slot_payout(n_runs):\n    \"\"\"Run the slot machine n_runs times and return the average net profit per run.\n    Example calls (note that return value is nondeterministic!):\n    >>> estimate_average_slot_payout(1)\n    -1\n    >>> estimate_average_slot_payout(1)\n    0.5\n    \"\"\"\n    pass",
      "execution_count": null,
      "outputs": []
    },
    {
      "metadata": {
        "_uuid": "c7d944f2df9f191880872adc29e635b19d7625c3"
      },
      "cell_type": "markdown",
      "source": "When you think you know the expected value per spin, uncomment the line below to see how close you were."
    },
    {
      "metadata": {
        "_uuid": "c220ce5e72203b2348600375e3c61a41e1cfe198",
        "trusted": true
      },
      "cell_type": "code",
      "source": "q4.solution()",
      "execution_count": null,
      "outputs": []
    },
    {
      "metadata": {
        "_uuid": "e1ee8e079d85f07380f11cd57330d6eba26be766"
      },
      "cell_type": "markdown",
      "source": "# Keep Going\n\nYou are ready for **[strings and dictionaries](https://www.kaggle.com/colinmorris/strings-and-dictionaries).**\n\n"
    },
    {
      "metadata": {
        "_uuid": "ca245536f408f49341a478cd152626b95ec8e4e9"
      },
      "cell_type": "markdown",
      "source": "---\n**[Python Micro-Course Home Page](https://www.kaggle.com/learn/python)**\n\n"
    }
  ],
  "metadata": {
    "kernelspec": {
      "display_name": "Python 3",
      "language": "python",
      "name": "python3"
    },
    "language_info": {
      "name": "python",
      "version": "3.6.6",
      "mimetype": "text/x-python",
      "codemirror_mode": {
        "name": "ipython",
        "version": 3
      },
      "pygments_lexer": "ipython3",
      "nbconvert_exporter": "python",
      "file_extension": ".py"
    },
    "learntools_metadata": {
      "lesson_index": 4,
      "type": "exercise"
    }
  },
  "nbformat": 4,
  "nbformat_minor": 1
}