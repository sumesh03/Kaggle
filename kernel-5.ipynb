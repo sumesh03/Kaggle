{
  "cells": [
    {
      "metadata": {
        "_uuid": "fc1fe13f48dad1bdbe7640d8933763f95e9c9819"
      },
      "cell_type": "markdown",
      "source": "**[Python Micro-Course Home Page](https://www.kaggle.com/learn/python)**\n\n---\n"
    },
    {
      "metadata": {
        "_uuid": "fe3fa85a98086b518db3f5dd4acecb9072a3a747"
      },
      "cell_type": "markdown",
      "source": "These exercises accompany the tutorial on [booleans and conditionals](https://www.kaggle.com/colinmorris/booleans-and-conditionals).\n\nTo get started, **run the setup code below** before working on the questions (and if you leave this notebook and come back later, don't forget to run the setup code again)."
    },
    {
      "metadata": {
        "_uuid": "25649122876f7b8ff9b12600e8b4991f5e6e99a9",
        "trusted": true
      },
      "cell_type": "code",
      "source": "from learntools.core import binder; binder.bind(globals())\nfrom learntools.python.ex3 import *\nprint('Setup complete.')",
      "execution_count": null,
      "outputs": []
    },
    {
      "metadata": {
        "_uuid": "f52b1e1f55924720d3373713979a14c272cd2cd9"
      },
      "cell_type": "markdown",
      "source": "# Exercises"
    },
    {
      "metadata": {
        "_uuid": "941d78eb1da02602ce49a0accb61eb08be1ed46d"
      },
      "cell_type": "markdown",
      "source": "## 1.\n\nMany programming languages have [sign](https://en.wikipedia.org/wiki/Sign_function) available as a built-in function. Python doesn't, but we can define our own!\n\nIn the cell below, define a function called `sign` which takes a numerical argument and returns -1 if it's negative, 1 if it's positive, and 0 if it's 0."
    },
    {
      "metadata": {
        "_uuid": "2017717bf437cc49ee4350196cd61f51ed360fde",
        "trusted": true
      },
      "cell_type": "code",
      "source": "# Your code goes here. Define a function called 'sign'\ndef sign(num):\n    if num<0:\n        return -1\n    elif num>0:\n        return 1\n    return 0\nq1.check()",
      "execution_count": null,
      "outputs": []
    },
    {
      "metadata": {
        "_uuid": "856ee2c305f30fb8be9b9f43e461aeecd62624a6",
        "trusted": true
      },
      "cell_type": "code",
      "source": "q1.solution()",
      "execution_count": null,
      "outputs": []
    },
    {
      "metadata": {
        "_uuid": "8a778d5dc777a5e332eba47228d0d63705ffe835"
      },
      "cell_type": "markdown",
      "source": "## 2.\n\nWe've decided to add \"logging\" to our `to_smash` function from [the previous exercise](https://www.kaggle.com/kernels/fork/1275158)."
    },
    {
      "metadata": {
        "_uuid": "1d556d74dc70d14b82581ad83620478ed2976dd7",
        "trusted": true
      },
      "cell_type": "code",
      "source": "def to_smash(total_candies):\n    \"\"\"Return the number of leftover candies that must be smashed after distributing\n    the given number of candies evenly between 3 friends.\n    \n    >>> to_smash(91)\n    1\n    \"\"\"\n    print(\"Splitting\", total_candies, \"candies\")\n    return total_candies % 3\n\nto_smash(91)",
      "execution_count": null,
      "outputs": []
    },
    {
      "metadata": {
        "_uuid": "3b300687e562babe731092ea3b9805d0edd35584"
      },
      "cell_type": "markdown",
      "source": "What happens if we call it with `total_candies = 1`?"
    },
    {
      "metadata": {
        "_uuid": "be90d04b87035ddc492dfc97252b697861194006",
        "trusted": true
      },
      "cell_type": "code",
      "source": "to_smash(1)",
      "execution_count": null,
      "outputs": []
    },
    {
      "metadata": {
        "_uuid": "23fab78396b89038f63ab79cb3c8bf23b8198d29"
      },
      "cell_type": "markdown",
      "source": "That isn't great grammar!\n\nModify the definition in the cell below to correct the grammar of our print statement. (If there's only one candy, we should use the singular \"candy\" instead of the plural \"candies\")"
    },
    {
      "metadata": {
        "_uuid": "2f27980216eda3bfbd27aa997de96e4ea96c9a3e",
        "trusted": true
      },
      "cell_type": "code",
      "source": "def to_smash(total_candies):\n    \"\"\"Return the number of leftover candies that must be smashed after distributing\n    the given number of candies evenly between 3 friends.\n    \n    >>> to_smash(91)\n    1\n    \"\"\"\n   \n    print(\"Splitting\", total_candies, \"candy\" if total_candies == 1 else \"candies\")\n    return total_candies % 3\n\nto_smash(91)\nto_smash(1)",
      "execution_count": null,
      "outputs": []
    },
    {
      "metadata": {
        "_uuid": "06c4e11d9244879d5523a4a8b1ebe9aadea99db7",
        "trusted": true
      },
      "cell_type": "code",
      "source": "q2.solution()",
      "execution_count": null,
      "outputs": []
    },
    {
      "metadata": {
        "_uuid": "653d447b4f7d58b84c37d03384d94330884b937d"
      },
      "cell_type": "markdown",
      "source": "## 3. <span title=\"A bit spicy\" style=\"color: darkgreen \">🌶️</span>\n\nIn the main lesson we talked about deciding whether we're prepared for the weather. I said that I'm safe from today's weather if...\n- I have an umbrella...\n- or if the rain isn't too heavy and I have a hood...\n- otherwise, I'm still fine unless it's raining *and* it's a workday\n\nThe function below uses our first attempt at turning this logic into a Python expression. I claimed that there was a bug in that code. Can you find it?\n\nTo prove that `prepared_for_weather` is buggy, come up with a set of inputs where it returns the wrong answer."
    },
    {
      "metadata": {
        "_uuid": "de06e7a4e574661c2fc36dca75f3226a16e4661c",
        "trusted": true
      },
      "cell_type": "code",
      "source": "def prepared_for_weather(have_umbrella, rain_level, have_hood, is_workday):\n    # Don't change this code. Our goal is just to find the bug, not fix it!\n    return have_umbrella or rain_level < 5 and have_hood or not rain_level > 0 and is_workday\n\n# Change the values of these inputs so they represent a case where prepared_for_weather\n# returns the wrong answer.\nhave_umbrella = False\nrain_level = 6\nhave_hood = True\nis_workday = False\n\n# Check what the function returns given the current values of the variables above\nactual = prepared_for_weather(have_umbrella, rain_level, have_hood, is_workday)\nprint(actual)\n\nq3.check()",
      "execution_count": null,
      "outputs": []
    },
    {
      "metadata": {
        "_uuid": "424585f9f274164bfc334d8495afb7fc99cddc61",
        "trusted": false
      },
      "cell_type": "code",
      "source": "#q3.hint()\n#q3.solution()",
      "execution_count": null,
      "outputs": []
    },
    {
      "metadata": {
        "_uuid": "273c346e5ad003c7332225f5e9a63f9fdf250bff"
      },
      "cell_type": "markdown",
      "source": "## 4.\n\nThe function `is_negative` below is implemented correctly - it returns True if the given number is negative and False otherwise.\n\nHowever, it's more verbose than it needs to be. We can actually reduce the number of lines of code in this function by *75%* while keeping the same behaviour. \n\nSee if you can come up with an equivalent body that uses just **one line** of code, and put it in the function `concise_is_negative`. (HINT: you don't even need Python's ternary syntax)"
    },
    {
      "metadata": {
        "_uuid": "3055792d26c0660f1d049ca98fe2cdeb56fbe4ed",
        "trusted": true
      },
      "cell_type": "code",
      "source": "def is_negative(number):\n    if number < 0:\n        return True\n    else:\n        return False\n\ndef concise_is_negative(number):\n    return number < 0\n    pass # Your code goes here (try to keep it to one line!)\n\nq4.check()",
      "execution_count": null,
      "outputs": []
    },
    {
      "metadata": {
        "_uuid": "477c771adc23180fa2e00f15605ad57d9c52e667",
        "trusted": true
      },
      "cell_type": "code",
      "source": "q4.hint()\nq4.solution()",
      "execution_count": null,
      "outputs": []
    },
    {
      "metadata": {
        "_uuid": "d0036b1af1b68a6a23a0ee33acfdb69a0d2153a1"
      },
      "cell_type": "markdown",
      "source": "## 5.\n\nThe boolean variables `ketchup`, `mustard` and `onion` represent whether a customer wants a particular topping on their hot dog. We want to implement a number of boolean functions that correspond to some yes-or-no questions about the customer's order. For example:"
    },
    {
      "metadata": {
        "_uuid": "95cc9a0ba6cdb83b715d692cb23cf756a571b584",
        "trusted": true
      },
      "cell_type": "code",
      "source": "def onionless(ketchup, mustard, onion):\n    \"\"\"Return whether the customer doesn't want onions.\n    \"\"\"\n    return not onion",
      "execution_count": null,
      "outputs": []
    },
    {
      "metadata": {
        "_uuid": "67ea24898842828ba75c7196b752589a538e1cc4"
      },
      "cell_type": "markdown",
      "source": "For each of the remaining functions, fill in the body to match the English description in the docstring. "
    },
    {
      "metadata": {
        "_uuid": "d833be01190adc0d51ba677468b692727d86469c",
        "trusted": true
      },
      "cell_type": "code",
      "source": "def wants_all_toppings(ketchup, mustard, onion):\n    \"\"\"Return whether the customer wants \"the works\" (all 3 toppings)\n    \"\"\"\n    return ketchup and mustard and onion\n\nq5.a.check()",
      "execution_count": null,
      "outputs": []
    },
    {
      "metadata": {
        "_uuid": "7fe89f30bd360c559da3128a2e1a7ade8c0ae6f4",
        "trusted": true
      },
      "cell_type": "code",
      "source": "q5.a.hint()\nq5.a.solution()",
      "execution_count": null,
      "outputs": []
    },
    {
      "metadata": {
        "_uuid": "84ab3945812904f666230bfd4c97acb0f8a77eb4",
        "trusted": false
      },
      "cell_type": "code",
      "source": "def wants_plain_hotdog(ketchup, mustard, onion):\n    \"\"\"Return whether the customer wants a plain hot dog with no toppings.\n    \"\"\"\n    pass\n\nq5.b.check()",
      "execution_count": null,
      "outputs": []
    },
    {
      "metadata": {
        "_uuid": "506580416d1d296c037ccf4dfe2043ce20d88f16",
        "trusted": false
      },
      "cell_type": "code",
      "source": "#q5.b.hint()\n#q5.b.solution()",
      "execution_count": null,
      "outputs": []
    },
    {
      "metadata": {
        "_uuid": "b3782fc2ff791f20ceb45a5cd948290e954272e3",
        "trusted": false
      },
      "cell_type": "code",
      "source": "def exactly_one_sauce(ketchup, mustard, onion):\n    \"\"\"Return whether the customer wants either ketchup or mustard, but not both.\n    (You may be familiar with this operation under the name \"exclusive or\")\n    \"\"\"\n    pass\n\nq5.c.check()",
      "execution_count": null,
      "outputs": []
    },
    {
      "metadata": {
        "_uuid": "270ca1210760647ffb1840bd7eecbe09102a5963",
        "trusted": false
      },
      "cell_type": "code",
      "source": "#q5.c.hint()\n#q5.c.solution()",
      "execution_count": null,
      "outputs": []
    },
    {
      "metadata": {
        "_uuid": "aa8bd46d6f60571906623b2509a7589eee2d445c"
      },
      "cell_type": "markdown",
      "source": "## 6. <span title=\"A bit spicy\" style=\"color: darkgreen \">🌶️</span>\n\nWe’ve seen that calling `bool()` on an integer returns `False` if it’s equal to 0 and `True` otherwise. What happens if we call `int()` on a bool? Try it out in the notebook cell below.\n\nCan you take advantage of this to write a succinct function that corresponds to the English sentence \"does the customer want exactly one topping?\"?"
    },
    {
      "metadata": {
        "_uuid": "b8b8f45aa282d8b244ce92bfd5a613cc891e1a1c",
        "trusted": true
      },
      "cell_type": "code",
      "source": "def exactly_one_topping(ketchup, mustard, onion):\n    \"\"\"Return whether the customer wants exactly one of the three available toppings\n    on their hot dog.\n    \"\"\"\n    return (ketchup + mustard + onion) == 1\n\nq6.check()",
      "execution_count": null,
      "outputs": []
    },
    {
      "metadata": {
        "_uuid": "18464e4149a94e39dd4e427cfdc1412de2a9ed6f",
        "trusted": true
      },
      "cell_type": "code",
      "source": "q6.hint()\nq6.solution()",
      "execution_count": null,
      "outputs": []
    },
    {
      "metadata": {
        "_uuid": "283a1197c4576a2fdeb008fd3d2fc1145a8d4ea6"
      },
      "cell_type": "markdown",
      "source": "## 7. <span title=\"A bit spicy\" style=\"color: darkgreen \">🌶️</span>\n\nIn this problem we'll be working with a simplified version of [blackjack](https://en.wikipedia.org/wiki/Blackjack) (aka twenty-one). In this version there is one player (who you'll control) and a dealer. Play proceeds as follows:\n\n- The player is dealt two face-up cards. The dealer is dealt one face-up card.\n- The player may ask to be dealt another card ('hit') as many times as they wish. If the sum of their cards exceeds 21, they lose the round immediately.\n- The dealer then deals additional cards to himself until either:\n    - the sum of the dealer's cards exceeds 21, in which case the player wins the round\n    - the sum of the dealer's cards is greater than or equal to 17. If the player's total is greater than the dealer's, the player wins. Otherwise, the dealer wins (even in case of a tie).\n    \nWhen calculating the sum of cards, Jack, Queen, and King count for 10. Aces can count as 1 or 11 (when referring to a player's \"total\" above, we mean the largest total that can be made without exceeding 21. So e.g. A+8 = 19, A+8+8 = 17)\n\nFor this problem, you'll write a function representing the player's decision-making strategy in this game. We've provided a very unintelligent implementation below:"
    },
    {
      "metadata": {
        "_uuid": "4dc85bfb305cbb9d0c385fcc29ee58a0742a61e0",
        "trusted": true
      },
      "cell_type": "code",
      "source": "def should_hit(dealer_total, player_total, player_low_aces, player_high_aces):\n    \"\"\"Return True if the player should hit (request another card) given the current game\n    state, or False if the player should stay.\n    When calculating a hand's total value, we count aces as \"high\" (with value 11) if doing so\n    doesn't bring the total above 21, otherwise we count them as low (with value 1). \n    For example, if the player's hand is {A, A, A, 7}, we will count it as 11 + 1 + 1 + 7,\n    and therefore set player_total=20, player_low_aces=2, player_high_aces=1.\n    \"\"\"\n    return False",
      "execution_count": null,
      "outputs": []
    },
    {
      "metadata": {
        "_uuid": "36bfde9b167971319cdc31c8e8259c366caefb3e"
      },
      "cell_type": "markdown",
      "source": "This very conservative agent *always* sticks with the hand of two cards that they're dealt.\n\nWe'll be simulating games between your player agent and our own dealer agent by calling your function.\n\nTry running the function below to see an example of a simulated game:"
    },
    {
      "metadata": {
        "_uuid": "c03f314688c000a8cc3377d498b6f865009f8603",
        "trusted": true
      },
      "cell_type": "code",
      "source": "q7.simulate_one_game()",
      "execution_count": null,
      "outputs": []
    },
    {
      "metadata": {
        "_uuid": "c72807d696d1cbb73774842d7faffec75070e0d5"
      },
      "cell_type": "markdown",
      "source": "The real test of your agent's mettle is their average win rate over many games. Try calling the function below to simulate 50000 games of blackjack (it may take a couple seconds):"
    },
    {
      "metadata": {
        "_uuid": "e1bc97f807f27071e5675a8cbe73623b2d708f39",
        "trusted": true
      },
      "cell_type": "code",
      "source": "q7.simulate(n_games=50000)",
      "execution_count": null,
      "outputs": []
    },
    {
      "metadata": {
        "_uuid": "817152f63eb526df43604c5e01e5de290fa25e2a"
      },
      "cell_type": "markdown",
      "source": "Our dumb agent that completely ignores the game state still manages to win shockingly often!\n\nTry adding some more smarts to the `should_hit` function and see how it affects the results."
    },
    {
      "metadata": {
        "_uuid": "0721651d0454f1120dee3533775559653e510ced",
        "trusted": true
      },
      "cell_type": "code",
      "source": "def should_hit(dealer_total, player_total, player_low_aces, player_high_aces):\n    \"\"\"Return True if the player should hit (request another card) given the current game\n    state, or False if the player should stay.\n    When calculating a hand's total value, we count aces as \"high\" (with value 11) if doing so\n    doesn't bring the total above 21, otherwise we count them as low (with value 1). \n    For example, if the player's hand is {A, A, A, 7}, we will count it as 11 + 1 + 1 + 7,\n    and therefore set player_total=20, player_low_aces=2, player_high_aces=1.\n    \"\"\"\n    return False\n\nq7.simulate(n_games=50000)",
      "execution_count": null,
      "outputs": []
    },
    {
      "metadata": {
        "_uuid": "a5021181a1a27d7e41641acfa6d7f833ca5bfdf0"
      },
      "cell_type": "markdown",
      "source": "How high can you get your win rate? Share your results on the [forums](https://www.kaggle.com/learn-forum).\n\n# Keep Going\n\nYou are ready for **[lists and tuples](https://www.kaggle.com/colinmorris/lists).**\n"
    },
    {
      "metadata": {
        "_uuid": "ddff16d77205f7468986e96437bcea03c3116050"
      },
      "cell_type": "markdown",
      "source": "---\n**[Python Micro-Course Home Page](https://www.kaggle.com/learn/python)**\n\n"
    }
  ],
  "metadata": {
    "kernelspec": {
      "display_name": "Python 3",
      "language": "python",
      "name": "python3"
    },
    "language_info": {
      "name": "python",
      "version": "3.6.6",
      "mimetype": "text/x-python",
      "codemirror_mode": {
        "name": "ipython",
        "version": 3
      },
      "pygments_lexer": "ipython3",
      "nbconvert_exporter": "python",
      "file_extension": ".py"
    },
    "learntools_metadata": {
      "lesson_index": 2,
      "type": "exercise"
    }
  },
  "nbformat": 4,
  "nbformat_minor": 1
}