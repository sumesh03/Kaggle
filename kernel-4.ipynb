{
  "cells": [
    {
      "metadata": {
        "_uuid": "98e4740359d117df0430c23dc1a09c7d3620770e"
      },
      "cell_type": "markdown",
      "source": "**[Python Micro-Course Home Page](https://www.kaggle.com/learn/python)**\n\n---\n"
    },
    {
      "metadata": {
        "_uuid": "458ba3f64fe61ad1270f6b2cfd2dc048ea8b67b2"
      },
      "cell_type": "markdown",
      "source": "These exercises accompany the tutorial on [functions and getting help](https://www.kaggle.com/colinmorris/functions-and-getting-help).\n\nAs before, don't forget to run the setup code below before jumping into question 1."
    },
    {
      "metadata": {
        "_kg_hide-input": true,
        "_kg_hide-output": true,
        "_uuid": "f30b21e12a57b5b520769e4f4411b692acbdfb1c",
        "trusted": true
      },
      "cell_type": "code",
      "source": "# SETUP. You don't need to worry for now about what this code does or how it works.\nfrom learntools.core import binder; binder.bind(globals())\nfrom learntools.python.ex2 import *\nprint('Setup complete.')",
      "execution_count": null,
      "outputs": []
    },
    {
      "metadata": {
        "_uuid": "0185cfc656c69b42d8a0350f0a8f60c5d3494733"
      },
      "cell_type": "markdown",
      "source": "# Exercises"
    },
    {
      "metadata": {
        "_uuid": "e714ce5c99cdbb40b317bbe0d06308c7b67f4784"
      },
      "cell_type": "markdown",
      "source": "## 1.\n\nComplete the body of the following function according to its docstring.\n\nHINT: Python has a builtin function `round`"
    },
    {
      "metadata": {
        "_uuid": "b2bfc8208d0d997228a7ee73155ed807c35b45a9",
        "trusted": true
      },
      "cell_type": "code",
      "source": "def round_to_two_places(num):\n    \"\"\"Return the given number rounded to two decimal places. \n    \n    >>> round_to_two_places(3.14159)\n    3.14\n    \"\"\"\n    return (round(num,2))\n\n    # Replace this body with your own code.\n    # (\"pass\" is a keyword that does literally nothing. We used it as a placeholder\n    # because after we begin a code block, Python requires at least one line of code)\n    \n\nq1.check()",
      "execution_count": null,
      "outputs": []
    },
    {
      "metadata": {
        "_uuid": "643fd1201fcf1dd5386ceb92d9cb2461249121ee",
        "trusted": false
      },
      "cell_type": "code",
      "source": "# Uncomment the following for a hint\n#q1.hint()\n# Or uncomment the following to peek at the solution\n#q1.solution()",
      "execution_count": null,
      "outputs": []
    },
    {
      "metadata": {
        "_uuid": "153e652475f3b432d1307ce803d4ffd9c176d25e"
      },
      "cell_type": "markdown",
      "source": "## 2.\nThe help for `round` says that `ndigits` (the second argument) may be negative.\nWhat do you think will happen when it is? Try some examples in the following cell?\n\nCan you think of a case where this would be useful?"
    },
    {
      "metadata": {
        "_uuid": "c8a75325125a51c7c6363b13f1c833e7b157f87f",
        "trusted": true
      },
      "cell_type": "code",
      "source": "round(1048,-2)",
      "execution_count": null,
      "outputs": []
    },
    {
      "metadata": {
        "_uuid": "db976571abcbf5ef61a589c94cb35c1ea2cf7eb4",
        "trusted": true,
        "scrolled": true
      },
      "cell_type": "code",
      "source": "#q2.solution()",
      "execution_count": null,
      "outputs": []
    },
    {
      "metadata": {
        "_uuid": "faf026726f5022c4371e76b78f03af73f381caf5"
      },
      "cell_type": "markdown",
      "source": "## 3.\n\nIn a previous programming problem, the candy-sharing friends Alice, Bob and Carol tried to split candies evenly. For the sake of their friendship, any candies left over would be smashed. For example, if they collectively bring home 91 candies, they'll take 30 each and smash 1.\n\nBelow is a simple function that will calculate the number of candies to smash for *any* number of total candies.\n\nModify it so that it optionally takes a second argument representing the number of friends the candies are being split between. If no second argument is provided, it should assume 3 friends, as before.\n\nUpdate the docstring to reflect this new behaviour."
    },
    {
      "metadata": {
        "_uuid": "0180928c73b7e83f3bb903c6d4323963e5c73be0",
        "trusted": true
      },
      "cell_type": "code",
      "source": "def to_smash(total_candies, n_friends=3):\n    \"\"\"Return the number of leftover candies that must be smashed after distributing\n    the given number of candies evenly between 3 friends.\n    \n    >>> to_smash(91)\n    1\n    \"\"\"\n    return total_candies % n_friends\n\nq3.check()",
      "execution_count": null,
      "outputs": []
    },
    {
      "metadata": {
        "_uuid": "425a1c262d060099b7ae96e6e0be4720dbed2012",
        "trusted": true
      },
      "cell_type": "code",
      "source": "#q3.hint()",
      "execution_count": null,
      "outputs": []
    },
    {
      "metadata": {
        "_uuid": "ba426e2acd6648f6032d8ed07f91376a1003c77d",
        "trusted": true
      },
      "cell_type": "code",
      "source": "#q3.solution()",
      "execution_count": null,
      "outputs": []
    },
    {
      "metadata": {
        "_uuid": "13a958ebd547fa6195ec8fcde6e5bed925ae7323"
      },
      "cell_type": "markdown",
      "source": "## 4.\n\nIt may not be fun, but reading and understanding error messages will be an important part of your Python career.\n\nEach code cell below contains some commented-out buggy code. For each cell...\n\n1. Read the code and predict what you think will happen when it's run.\n2. Then uncomment the code and run it to see what happens. (**Tip**: In the kernel editor, you can highlight several lines and press `ctrl`+`/` to toggle commenting.)\n3. Fix the code (so that it accomplishes its intended purpose without throwing an exception)\n\n<!-- TODO: should this be autochecked? Delta is probably pretty small. -->"
    },
    {
      "metadata": {
        "_uuid": "eee8451e4c9bef94ca373f1d50241e1a227dec13",
        "trusted": true
      },
      "cell_type": "code",
      "source": "round_to_two_places(9.9999)",
      "execution_count": null,
      "outputs": []
    },
    {
      "metadata": {
        "_uuid": "deee2e7c7a5ff2823ea625f89817d4c2c92b4b6a",
        "trusted": true
      },
      "cell_type": "code",
      "source": "x = -10\ny = 5\nWhich of the two variables above has the smallest absolute value?\nsmallest_abs = min(abs(x),abs(y))\nprint(smallest_abs)",
      "execution_count": null,
      "outputs": []
    },
    {
      "metadata": {
        "_uuid": "93e0fc6f63706a672b06bfb8f74f37f6d04c7ee2",
        "trusted": true
      },
      "cell_type": "code",
      "source": "def f(x):\n    y = abs(x)\n    return y\nprint(f(5))",
      "execution_count": null,
      "outputs": []
    },
    {
      "metadata": {
        "_uuid": "54eba4ac7cafcb8b557deb17a1a23544a24dc414"
      },
      "cell_type": "markdown",
      "source": "## 5. <span title=\"A bit spicy\" style=\"color: darkgreen \">🌶️</span>\n\nFor this question, we'll be using two functions imported from Python's `time` module.\n\nThe [time](https://docs.python.org/3/library/time.html#time.time) function returns the number of seconds that have passed since the Epoch (aka [Unix time](https://en.wikipedia.org/wiki/Unix_time)). \n\n<!-- We've provided a function called `seconds_since_epoch` which returns the number of seconds that have passed since the Epoch (aka [Unix time](https://en.wikipedia.org/wiki/Unix_time)). -->\n\nTry it out below. Each time you run it, you should get a slightly larger number."
    },
    {
      "metadata": {
        "_uuid": "495162e32f33547bcee4ff57d327413e423bbcb4",
        "trusted": true
      },
      "cell_type": "code",
      "source": "# Importing the function 'time' from the module of the same name. \n# (We'll discuss imports in more depth later)\nfrom time import time\nt = time()\nprint(t, \"seconds since the Epoch\")",
      "execution_count": null,
      "outputs": []
    },
    {
      "metadata": {
        "_uuid": "a2bf7a2dc06c2bf3436a3afe809d82dcca0d62ec"
      },
      "cell_type": "markdown",
      "source": "We'll also be using a function called [sleep](https://docs.python.org/3/library/time.html#time.sleep), which makes us wait some number of seconds while it does nothing particular. (Sounds useful, right?)\n\nYou can see it in action by running the cell below:"
    },
    {
      "metadata": {
        "_uuid": "476180ef157a032b27b303d67dc555885f7e1c3e",
        "trusted": true
      },
      "cell_type": "code",
      "source": "from time import sleep\nduration = 5\nprint(\"Getting sleepy. See you in\", duration, \"seconds\")\nsleep(duration)\nprint(\"I'm back. What did I miss?\")",
      "execution_count": null,
      "outputs": []
    },
    {
      "metadata": {
        "_uuid": "6d4d7f442af5c4ca335bfb35fd1ae02ee0fdd907"
      },
      "cell_type": "markdown",
      "source": "With the help of these functions, complete the function `time_call` below according to its docstring.\n\n<!-- (The sleep function will be useful for testing here since we have a pretty good idea of what something like `time_call(sleep, 1)` should return.) -->"
    },
    {
      "metadata": {
        "_uuid": "4f6e5323db618befe5dbdc951dd038b0ea5b6562",
        "trusted": true
      },
      "cell_type": "code",
      "source": "def time_call(fn, arg):\n    \"\"\"Return the amount of time the given function takes (in seconds) when called with the given argument.\n    \"\"\"\n    t1=time()\n    fn(arg)\n    #sleep(5)\n    t2=time()\n    return t2-t1\n\nprint(time_call(sleep,2))",
      "execution_count": null,
      "outputs": []
    },
    {
      "metadata": {
        "_uuid": "a38699cdc02974fdb6b83d772ddeea17aacee2e7"
      },
      "cell_type": "markdown",
      "source": "How would you verify that `time_call` is working correctly? Think about it, and then check the answer with the `solution` function below`."
    },
    {
      "metadata": {
        "_uuid": "cc52c5426b96616860a2eb953d74183d47453bef",
        "trusted": false
      },
      "cell_type": "code",
      "source": "#q5.hint()\n#q5.solution()",
      "execution_count": null,
      "outputs": []
    },
    {
      "metadata": {
        "_uuid": "398b9f9a60820b81adda40c3bf6a9ef098dca247"
      },
      "cell_type": "markdown",
      "source": "## 6. <span title=\"A bit spicy\" style=\"color: darkgreen \">🌶️</span>\n\n*Note: this question depends on a working solution to the previous question.*\n\nComplete the function below according to its docstring."
    },
    {
      "metadata": {
        "_uuid": "628ccb4372ed3056b645f816451b36405fa105eb",
        "trusted": true
      },
      "cell_type": "code",
      "source": "def slowest_call(fn, arg1, arg2, arg3):\n    \"\"\"Return the amount of time taken by the slowest of the following function\n    calls: fn(arg1), fn(arg2), fn(arg3)\n    \"\"\"\n    return max(time_call(fn(arg1)),time_call(fn(arg2)),time_call(fn(arg3)))",
      "execution_count": null,
      "outputs": []
    },
    {
      "metadata": {
        "_uuid": "09033d6e67bcb0ebe25e4e4bced729334d693b2a",
        "trusted": false
      },
      "cell_type": "code",
      "source": "#q6.hint()",
      "execution_count": null,
      "outputs": []
    },
    {
      "metadata": {
        "_uuid": "b638412245a1578de673bd4cb3d99cfbd1a4f6df",
        "trusted": false
      },
      "cell_type": "code",
      "source": "#q6.solution()",
      "execution_count": null,
      "outputs": []
    },
    {
      "metadata": {
        "_uuid": "6fabd048ab48a7989f6be257ab3bad1462b14d95"
      },
      "cell_type": "markdown",
      "source": "# Keep Going\n\nYou are ready for **[booleans and conditionals](https://www.kaggle.com/colinmorris/booleans-and-conditionals).**\n"
    },
    {
      "metadata": {
        "_uuid": "8799268b20f18983369511c4285f52f59ce14d76"
      },
      "cell_type": "markdown",
      "source": "---\n**[Python Micro-Course Home Page](https://www.kaggle.com/learn/python)**\n\n"
    }
  ],
  "metadata": {
    "kernelspec": {
      "display_name": "Python 3",
      "language": "python",
      "name": "python3"
    },
    "language_info": {
      "name": "python",
      "version": "3.6.6",
      "mimetype": "text/x-python",
      "codemirror_mode": {
        "name": "ipython",
        "version": 3
      },
      "pygments_lexer": "ipython3",
      "nbconvert_exporter": "python",
      "file_extension": ".py"
    },
    "learntools_metadata": {
      "lesson_index": 1,
      "type": "exercise"
    }
  },
  "nbformat": 4,
  "nbformat_minor": 1
}