{
  "cells": [
    {
      "metadata": {
        "_uuid": "47564e76ffbcf512fee866809178466e631677a2"
      },
      "cell_type": "markdown",
      "source": "**[Python Micro-Course Home Page](https://www.kaggle.com/learn/python)**\n\n---\n"
    },
    {
      "metadata": {
        "_uuid": "47b54379e846289cffa939cbb17842c0af661c0b"
      },
      "cell_type": "markdown",
      "source": "These exercises accompany the tutorial on [strings and dictionaries](https://www.kaggle.com/colinmorris/strings-and-dictionaries).\n\nRun the setup code below before working on the questions (and run it again if you leave this notebook and come back later)."
    },
    {
      "metadata": {
        "_uuid": "7c689c8478b4984fb10ddd97d7dc4a1aaa402e4c",
        "trusted": true
      },
      "cell_type": "code",
      "source": "from learntools.core import binder; binder.bind(globals())\nfrom learntools.python.ex6 import *\nprint('Setup complete.')",
      "execution_count": null,
      "outputs": []
    },
    {
      "metadata": {
        "_uuid": "cd4f933d855ac80d80328ff4fcf1ad6a7e5fab3b"
      },
      "cell_type": "markdown",
      "source": "# Exercises"
    },
    {
      "metadata": {
        "_uuid": "d6ed80c083a9bb5f718eb7f82456aca2df18d744"
      },
      "cell_type": "markdown",
      "source": "## 0. \n\nLet's start with a string lightning round to warm up. What are the lengths of the strings below?\n\nFor each of the five strings below, predict what `len()` would return when passed that string. Use the variable `length` to record your answer, then run the cell to check whether you were right."
    },
    {
      "metadata": {
        "_uuid": "5904ff38e894c9bd8997cb3781921e31c561c087",
        "trusted": true
      },
      "cell_type": "code",
      "source": "a = \"\"\nlength = 0\nq0.a.check()",
      "execution_count": null,
      "outputs": []
    },
    {
      "metadata": {
        "_uuid": "ebb23d6ccb2c53c80d3fcbee4256ee639a5b8fae",
        "trusted": true
      },
      "cell_type": "code",
      "source": "b = \"it's ok\"\nlength = 7\nq0.b.check()",
      "execution_count": null,
      "outputs": []
    },
    {
      "metadata": {
        "_uuid": "0b12bec4d2538b09a668edffb2b818f882536c1e",
        "trusted": true
      },
      "cell_type": "code",
      "source": "c = 'it\\'s ok'\nlength = 7\nq0.c.check()",
      "execution_count": null,
      "outputs": []
    },
    {
      "metadata": {
        "_uuid": "e10917c541a6b7f96c08b460dfc80b0e9914f398",
        "trusted": true
      },
      "cell_type": "code",
      "source": "d = \"\"\"hey\"\"\"\nlength = 3\nq0.d.check()",
      "execution_count": null,
      "outputs": []
    },
    {
      "metadata": {
        "_uuid": "4ff5795745b31033f28618d5b3cda415e1960c25",
        "trusted": true
      },
      "cell_type": "code",
      "source": "e = '\\n'\nlength = 1\nq0.e.check()",
      "execution_count": null,
      "outputs": []
    },
    {
      "metadata": {
        "_uuid": "0582412900c20d9334b37b5dda4895a856b40cb7"
      },
      "cell_type": "markdown",
      "source": "## 1.\n\nThere is a saying that \"Data scientists spend 80% of their time cleaning data, and 20% of their time complaining about cleaning data.\" Let's see if you can write a function to help clean US zip code data. Given a string, it should return whether or not that string represents a valid zip code. For our purposes, a valid zip code is any string consisting of exactly 5 digits.\n\nHINT: `str` has a method that will be useful here. Use `help(str)` to review a list of string methods."
    },
    {
      "metadata": {
        "_uuid": "61451989bce2189efacbc554b7f6f37b9c37b311",
        "trusted": true
      },
      "cell_type": "code",
      "source": "def is_valid_zip(zip_code):\n    \"\"\"Returns whether the input string is a valid (5 digit) zip code\n    \"\"\"\n    return len(zip_code) == 5 and zip_code.isdigit()\n     \n\nq1.check()",
      "execution_count": null,
      "outputs": []
    },
    {
      "metadata": {
        "_uuid": "754c20460344eb61c35c5475eca884f567f5779c",
        "trusted": true
      },
      "cell_type": "code",
      "source": "q1.hint()\nq1.solution()",
      "execution_count": null,
      "outputs": []
    },
    {
      "metadata": {
        "_uuid": "922815c6c664eadd8bf376bdd77d8b340dee0785"
      },
      "cell_type": "markdown",
      "source": "## 2.\n\nA researcher has gathered thousands of news articles. But she wants to focus her attention on articles including a specific word. Complete the function below to help her filter her list of articles.\n\nYour function should meet the following criteria\n\n- Do not include documents where the keyword string shows up only as a part of a larger word. For example, if she were looking for the keyword “closed”, you would not include the string “enclosed.” \n- She does not want you to distinguish upper case from lower case letters. So the phrase “Closed the case.” would be included when the keyword is “closed”\n- Do not let periods or commas affect what is matched. “It is closed.” would be included when the keyword is “closed”. But you can assume there are no other types of punctuation."
    },
    {
      "metadata": {
        "_uuid": "7f48bd6dd543caa4cb73ac7fe547a2babac30c11",
        "trusted": true
      },
      "cell_type": "code",
      "source": "def word_search(doc_list, keyword):\n    \"\"\"\n    Takes a list of documents (each document is a string) and a keyword. \n    Returns list of the index values into the original list for all documents \n    containing the keyword.\n\n    Example:\n    doc_list = [\"The Learn Python Challenge Casino.\", \"They bought a car\", \"Casinoville\"]\n    >>> word_search(doc_list, 'casino')\n    >>> [0]\n    \"\"\"\n    pass\n    indices = [] \n \n    for i, doc in enumerate(doc_list):\n       \n        tokens = doc.split()\n    \n        normalized = [token.rstrip('.,').lower() for token in tokens]\n        \n        if keyword.lower() in normalized:\n            indices.append(i)\n    return indices\n\nq2.check()",
      "execution_count": null,
      "outputs": []
    },
    {
      "metadata": {
        "_uuid": "1c8398d81fa211c6f4833f732b534149c6d47ede",
        "trusted": true
      },
      "cell_type": "code",
      "source": "q2.hint()\nq2.solution()",
      "execution_count": null,
      "outputs": []
    },
    {
      "metadata": {
        "_uuid": "282db82f2ee30bb125071cfaa2ec1d96f1c609ef"
      },
      "cell_type": "markdown",
      "source": "## 3.\n\nNow the researcher wants to supply multiple keywords to search for. Complete the function below to help her.\n\n(You're encouraged to use the `word_search` function you just wrote when implementing this function. Reusing code in this way makes your programs more robust and readable - and it saves typing!)"
    },
    {
      "metadata": {
        "_uuid": "795d8c9573ebb05aa1d9de8d50f3be30b8161abd",
        "trusted": true
      },
      "cell_type": "code",
      "source": "def multi_word_search(doc_list, keywords):\n    \"\"\"\n    Takes list of documents (each document is a string) and a list of keywords.  \n    Returns a dictionary where each key is a keyword, and the value is a list of indices\n    (from doc_list) of the documents containing that keyword\n\n    >>> doc_list = [\"The Learn Python Challenge Casino.\", \"They bought a car and a casino\", \"Casinoville\"]\n    >>> keywords = ['casino', 'they']\n    >>> multi_word_search(doc_list, keywords)\n    {'casino': [0, 1], 'they': [1]}\n    \"\"\"\n    pass\n\n    keyword_to_indices = {}\n    \n    for keyword in keywords:\n        \n        keyword_to_indices[keyword] = word_search(doc_list, keyword)\n        \n    return keyword_to_indices\n\nq3.check()",
      "execution_count": null,
      "outputs": []
    },
    {
      "metadata": {
        "_uuid": "87df2040f6ee8726941db37068fa054f6c30a609",
        "trusted": true
      },
      "cell_type": "code",
      "source": "q3.solution()",
      "execution_count": null,
      "outputs": []
    },
    {
      "metadata": {
        "_uuid": "4a1fb8b95b3e57dc32347a99a1b336903acf4475"
      },
      "cell_type": "markdown",
      "source": "# Keep Going\n\nYou are ready for **[imports](https://www.kaggle.com/colinmorris/working-with-external-libraries).**\n\n"
    },
    {
      "metadata": {
        "_uuid": "f757f657343a2146211c9ff31d5f6752474b7c45"
      },
      "cell_type": "markdown",
      "source": "---\n**[Python Micro-Course Home Page](https://www.kaggle.com/learn/python)**\n\n"
    }
  ],
  "metadata": {
    "kernelspec": {
      "display_name": "Python 3",
      "language": "python",
      "name": "python3"
    },
    "language_info": {
      "name": "python",
      "version": "3.6.6",
      "mimetype": "text/x-python",
      "codemirror_mode": {
        "name": "ipython",
        "version": 3
      },
      "pygments_lexer": "ipython3",
      "nbconvert_exporter": "python",
      "file_extension": ".py"
    },
    "learntools_metadata": {
      "lesson_index": 5,
      "type": "exercise"
    }
  },
  "nbformat": 4,
  "nbformat_minor": 1
}